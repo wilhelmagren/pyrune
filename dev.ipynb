{
 "cells": [
  {
   "cell_type": "code",
   "execution_count": 20,
   "id": "46e4d06b-c62a-4dd5-a930-c7ae2900e4a2",
   "metadata": {},
   "outputs": [],
   "source": [
    "from __future__ import annotations\n",
    "\n",
    "import numpy as np\n",
    "\n",
    "from typing import Tuple, Union, List, Optional, Callable\n",
    "\n"
   ]
  },
  {
   "cell_type": "code",
   "execution_count": 145,
   "id": "edd2b4fc-2db4-4f6e-a5f4-9e6643fcf6dc",
   "metadata": {},
   "outputs": [],
   "source": [
    "class Tensor:\n",
    "    def __init__(self, data, device: str = \"cpu\", requires_grad: bool = False):\n",
    "        self._data = data\n",
    "        self._device = device\n",
    "        self._requires_grad = requires_grad\n",
    "        self._grad = None\n",
    "        self._ctx = None\n",
    "\n",
    "    def __repr__(self) -> str:\n",
    "        return f\"tensor({self._data}, shape={self.shape}, device={self._device}, ctx={self._ctx})\"\n",
    "\n",
    "    def __add__(self, other: Tensor) -> Tensor:\n",
    "        return Add.apply(self, other)\n",
    "\n",
    "    def __matmul__(self, other: Tensor) -> Tensor:\n",
    "        return Matmul.apply(self, other)\n",
    "\n",
    "    def __neg__(self) -> Tensor:\n",
    "        return -1 * self\n",
    "\n",
    "    @property\n",
    "    def shape(self) -> Tuple[int, ...]:\n",
    "        return self._data.shape\n",
    "    \n",
    "    @property\n",
    "    def requires_grad(self) -> bool:\n",
    "        return self._requires_grad\n",
    "\n",
    "    def backward(self) -> None:\n",
    "        \"\"\"\"\"\"\n",
    "        if self._ctx is None: return\n",
    "\n",
    "        if self._grad is None:\n",
    "            assert np.prod(self.shape) == 1, \\\n",
    "                \"You are trying to do backward pass on unreduced tensor, this is not good...\"\n",
    "\n",
    "        order = []\n",
    "        visited = set()\n",
    "        def _topological_sort(v):\n",
    "            if v not in visited:\n",
    "                visited.add(v)\n",
    "                if v._ctx is not None:\n",
    "                    for child in v._ctx._children:\n",
    "                        _topological_sort(child)\n",
    "                order.append(v)\n",
    "\n",
    "        _topological_sort(self)\n",
    "        self._grad = np.ones(self.shape)\n",
    "        \n",
    "        for t in reversed(order):\n",
    "            assert t._grad is not None, \"need gradient!\"\n",
    "            children = t._ctx._children\n",
    "            grads = t._ctx.grad_fn(t._grad)\n",
    "            print(\"=\"*50)\n",
    "            print(t)\n",
    "            print(grads)\n",
    "            if not isinstance(grads, (tuple, list)):\n",
    "                grads = list(grads)\n",
    "            if not isinstance(children, (tuple, list)):\n",
    "                children = list(children)\n",
    "            for grad, child in zip(grads, children):\n",
    "                print(grad, child)\n",
    "                child._grad = grad\n",
    "                \n"
   ]
  },
  {
   "cell_type": "code",
   "execution_count": 146,
   "id": "71f87092-82d9-4cba-9a74-b5adddd010a0",
   "metadata": {},
   "outputs": [],
   "source": [
    "class Function:\n",
    "    _saved_tensors = None\n",
    "\n",
    "    def __repr__(self) -> str:\n",
    "        return f\"<{self.__class__.__name__}>\"\n",
    "    \n",
    "    def save_for_backward(self, *tensors):\n",
    "        self._saved_tensors = list(tensors)\n",
    "\n",
    "    @property\n",
    "    def saved_tensors(self) -> Optional[List[Tensor]]:\n",
    "        return self._saved_tensors\n",
    "        \n",
    "    @classmethod\n",
    "    def apply(cls, *tensors, **kwargs) -> Union[Tensor, List[Tensor]]:\n",
    "        func = cls()\n",
    "        ctx = FunctionCtx(func, *tensors)\n",
    "        result = Tensor(func.forward(*[t._data for t in tensors], **kwargs), requires_grad=ctx._requires_grad)\n",
    "        result._ctx = ctx\n",
    "        return result\n",
    "\n",
    "\n",
    "class ReLU(Function):\n",
    "    def forward(self, x):\n",
    "        self.save_for_backward(x)\n",
    "        return np.maximum(x, 0.0)\n",
    "\n",
    "    def backward(self, grad):\n",
    "        x, = self.saved_tensors\n",
    "        return grad * (x >= 0.0)\n",
    "\n",
    "\n",
    "class Add(Function):\n",
    "    def forward(self, a, b):\n",
    "        return a + b\n",
    "\n",
    "    def backward(self, grad):\n",
    "        return grad, grad\n",
    "\n",
    "\n",
    "class Matmul(Function):\n",
    "    def forward(self, a, b):\n",
    "        self.save_for_backward(a, b)\n",
    "        return a @ b\n",
    "\n",
    "    def backward(self, grad):\n",
    "        a, b, = self.saved_tensors\n",
    "        print(a.shape, b.shape, grad.shape)\n",
    "        return b @ grad, a @ grad\n",
    "\n",
    "\n",
    "class Mean(Function):\n",
    "    def forward(self, a, dim=None, keepdims=True):\n",
    "        res = a.sum(axis=dim, keepdims=keepdims)\n",
    "        self.save_for_backward(a, res)\n",
    "        return res * np.prod(res.shape) / np.prod(a.shape)\n",
    "\n",
    "    def backward(self, grad):\n",
    "        a, res, = self.saved_tensors\n",
    "        return np.ones(a.shape) * grad * np.prod(res.shape) / np.prod(a.shape)\n",
    "\n",
    "\n",
    "class FunctionCtx:\n",
    "    def __init__(self, func: Function, *tensors: Tuple[Tensor]):\n",
    "        self._children = list(tensors)\n",
    "        self._func = func\n",
    "        self._requires_grad = any(t.requires_grad for t in tensors)\n",
    "\n",
    "    def __repr__(self) -> str:\n",
    "        return self._func.__repr__()\n",
    "\n",
    "    def __str__(self) -> str:\n",
    "        return self._func.__str__()\n",
    "\n",
    "    @property\n",
    "    def grad_fn(self) -> Callable:\n",
    "        return self._func.backward\n",
    "    \n"
   ]
  },
  {
   "cell_type": "code",
   "execution_count": 147,
   "id": "d6b64b89-3fdf-422c-8ca9-159d4c2126a6",
   "metadata": {},
   "outputs": [
    {
     "data": {
      "text/plain": [
       "tensor([[-0.35406435]], shape=(1, 1), device=cpu, ctx=<Mean>)"
      ]
     },
     "execution_count": 147,
     "metadata": {},
     "output_type": "execute_result"
    }
   ],
   "source": [
    "a = Tensor(np.ones((8, 10)), requires_grad=False)\n",
    "b = Tensor(np.random.normal(0, 0.1, size=(10, 2)), requires_grad=True)\n",
    "\n",
    "c = Mean.apply(a @ b, dim=None, keepdims=True)\n",
    "c\n"
   ]
  },
  {
   "cell_type": "code",
   "execution_count": 148,
   "id": "41551122-cc3a-4801-bcc0-b3b2c64ac4b1",
   "metadata": {},
   "outputs": [
    {
     "name": "stdout",
     "output_type": "stream",
     "text": [
      "==================================================\n",
      "tensor([[-0.35406435]], shape=(1, 1), device=cpu, ctx=<Mean>)\n",
      "[[0.0625 0.0625]\n",
      " [0.0625 0.0625]\n",
      " [0.0625 0.0625]\n",
      " [0.0625 0.0625]\n",
      " [0.0625 0.0625]\n",
      " [0.0625 0.0625]\n",
      " [0.0625 0.0625]\n",
      " [0.0625 0.0625]]\n",
      "[0.0625 0.0625] tensor([[-0.37839131 -0.3297374 ]\n",
      " [-0.37839131 -0.3297374 ]\n",
      " [-0.37839131 -0.3297374 ]\n",
      " [-0.37839131 -0.3297374 ]\n",
      " [-0.37839131 -0.3297374 ]\n",
      " [-0.37839131 -0.3297374 ]\n",
      " [-0.37839131 -0.3297374 ]\n",
      " [-0.37839131 -0.3297374 ]], shape=(8, 2), device=cpu, ctx=<Matmul>)\n",
      "(8, 10) (10, 2) (2,)\n"
     ]
    },
    {
     "ename": "ValueError",
     "evalue": "matmul: Input operand 1 has a mismatch in its core dimension 0, with gufunc signature (n?,k),(k,m?)->(n?,m?) (size 2 is different from 10)",
     "output_type": "error",
     "traceback": [
      "\u001b[1;31m---------------------------------------------------------------------------\u001b[0m",
      "\u001b[1;31mValueError\u001b[0m                                Traceback (most recent call last)",
      "Cell \u001b[1;32mIn[148], line 1\u001b[0m\n\u001b[1;32m----> 1\u001b[0m \u001b[43mc\u001b[49m\u001b[38;5;241;43m.\u001b[39;49m\u001b[43mbackward\u001b[49m\u001b[43m(\u001b[49m\u001b[43m)\u001b[49m\n",
      "Cell \u001b[1;32mIn[145], line 53\u001b[0m, in \u001b[0;36mTensor.backward\u001b[1;34m(self)\u001b[0m\n\u001b[0;32m     51\u001b[0m \u001b[38;5;28;01massert\u001b[39;00m t\u001b[38;5;241m.\u001b[39m_grad \u001b[38;5;129;01mis\u001b[39;00m \u001b[38;5;129;01mnot\u001b[39;00m \u001b[38;5;28;01mNone\u001b[39;00m, \u001b[38;5;124m\"\u001b[39m\u001b[38;5;124mneed gradient!\u001b[39m\u001b[38;5;124m\"\u001b[39m\n\u001b[0;32m     52\u001b[0m children \u001b[38;5;241m=\u001b[39m t\u001b[38;5;241m.\u001b[39m_ctx\u001b[38;5;241m.\u001b[39m_children\n\u001b[1;32m---> 53\u001b[0m grads \u001b[38;5;241m=\u001b[39m \u001b[43mt\u001b[49m\u001b[38;5;241;43m.\u001b[39;49m\u001b[43m_ctx\u001b[49m\u001b[38;5;241;43m.\u001b[39;49m\u001b[43mgrad_fn\u001b[49m\u001b[43m(\u001b[49m\u001b[43mt\u001b[49m\u001b[38;5;241;43m.\u001b[39;49m\u001b[43m_grad\u001b[49m\u001b[43m)\u001b[49m\n\u001b[0;32m     54\u001b[0m \u001b[38;5;28mprint\u001b[39m(\u001b[38;5;124m\"\u001b[39m\u001b[38;5;124m=\u001b[39m\u001b[38;5;124m\"\u001b[39m\u001b[38;5;241m*\u001b[39m\u001b[38;5;241m50\u001b[39m)\n\u001b[0;32m     55\u001b[0m \u001b[38;5;28mprint\u001b[39m(t)\n",
      "Cell \u001b[1;32mIn[146], line 49\u001b[0m, in \u001b[0;36mMatmul.backward\u001b[1;34m(self, grad)\u001b[0m\n\u001b[0;32m     47\u001b[0m a, b, \u001b[38;5;241m=\u001b[39m \u001b[38;5;28mself\u001b[39m\u001b[38;5;241m.\u001b[39msaved_tensors\n\u001b[0;32m     48\u001b[0m \u001b[38;5;28mprint\u001b[39m(a\u001b[38;5;241m.\u001b[39mshape, b\u001b[38;5;241m.\u001b[39mshape, grad\u001b[38;5;241m.\u001b[39mshape)\n\u001b[1;32m---> 49\u001b[0m \u001b[38;5;28;01mreturn\u001b[39;00m b \u001b[38;5;241m@\u001b[39m grad, \u001b[43ma\u001b[49m\u001b[43m \u001b[49m\u001b[38;5;241;43m@\u001b[39;49m\u001b[43m \u001b[49m\u001b[43mgrad\u001b[49m\n",
      "\u001b[1;31mValueError\u001b[0m: matmul: Input operand 1 has a mismatch in its core dimension 0, with gufunc signature (n?,k),(k,m?)->(n?,m?) (size 2 is different from 10)"
     ]
    }
   ],
   "source": [
    "c.backward()"
   ]
  },
  {
   "cell_type": "code",
   "execution_count": 144,
   "id": "ff3259ff-be7a-4f3a-a347-2c442af182fd",
   "metadata": {},
   "outputs": [
    {
     "data": {
      "text/plain": [
       "(None, None, array([[1.]]))"
      ]
     },
     "execution_count": 144,
     "metadata": {},
     "output_type": "execute_result"
    }
   ],
   "source": [
    "a._grad, b._grad, c._grad"
   ]
  },
  {
   "cell_type": "code",
   "execution_count": null,
   "id": "bbece49f-2e2b-4511-bb4e-afc82cae8e17",
   "metadata": {},
   "outputs": [],
   "source": []
  },
  {
   "cell_type": "code",
   "execution_count": null,
   "id": "91949af5-ab61-4454-9355-67d862103c48",
   "metadata": {},
   "outputs": [],
   "source": []
  }
 ],
 "metadata": {
  "kernelspec": {
   "display_name": "Python 3 (ipykernel)",
   "language": "python",
   "name": "python3"
  },
  "language_info": {
   "codemirror_mode": {
    "name": "ipython",
    "version": 3
   },
   "file_extension": ".py",
   "mimetype": "text/x-python",
   "name": "python",
   "nbconvert_exporter": "python",
   "pygments_lexer": "ipython3",
   "version": "3.12.3"
  }
 },
 "nbformat": 4,
 "nbformat_minor": 5
}
